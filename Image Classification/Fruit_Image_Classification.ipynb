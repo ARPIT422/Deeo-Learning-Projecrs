{
  "cells": [
    {
      "cell_type": "code",
      "execution_count": null,
      "metadata": {
        "colab": {
          "base_uri": "https://localhost:8080/"
        },
        "id": "YJT7epI-QN-J",
        "outputId": "167a61ff-f82c-4c2f-f143-aa4bfebe933b"
      },
      "outputs": [
        {
          "output_type": "stream",
          "name": "stdout",
          "text": [
            "Mounted at /content/drive\n"
          ]
        }
      ],
      "source": [
        "from google.colab import drive\n",
        "drive.mount('/content/drive')"
      ]
    },
    {
      "cell_type": "code",
      "execution_count": null,
      "metadata": {
        "id": "PMmJm4apVhuZ"
      },
      "outputs": [],
      "source": [
        "import numpy as np\n",
        "import pandas as pd\n",
        "import matplotlib.pyplot as plt\n",
        "import cv2\n",
        "from sklearn.preprocessing import OneHotEncoder\n",
        "from sklearn.model_selection import train_test_split\n",
        "from tensorflow.keras.preprocessing.image import ImageDataGenerator\n",
        "from tensorflow.keras import layers\n",
        "from keras.models import Sequential\n",
        "import concurrent.futures\n",
        "from concurrent.futures import ProcessPoolExecutor"
      ]
    },
    {
      "cell_type": "code",
      "execution_count": null,
      "metadata": {
        "colab": {
          "base_uri": "https://localhost:8080/",
          "height": 206
        },
        "id": "hkK56EG3VnAz",
        "outputId": "6697b687-fd49-4a9d-c9e8-0f8b6daf8bd0"
      },
      "outputs": [
        {
          "output_type": "execute_result",
          "data": {
            "text/plain": [
              "                                          image_path        class\n",
              "0  /content/drive/MyDrive/Fruit Image Dataset/1_g...        guava\n",
              "1  /content/drive/MyDrive/Fruit Image Dataset/2_b...       banana\n",
              "2  /content/drive/MyDrive/Fruit Image Dataset/3_p...      peaches\n",
              "3  /content/drive/MyDrive/Fruit Image Dataset/4_m...        mango\n",
              "4  /content/drive/MyDrive/Fruit Image Dataset/5_r...  raspberries"
            ],
            "text/html": [
              "\n",
              "  <div id=\"df-0471a2f9-19ec-4ace-b1dd-26eb8cf3bd12\" class=\"colab-df-container\">\n",
              "    <div>\n",
              "<style scoped>\n",
              "    .dataframe tbody tr th:only-of-type {\n",
              "        vertical-align: middle;\n",
              "    }\n",
              "\n",
              "    .dataframe tbody tr th {\n",
              "        vertical-align: top;\n",
              "    }\n",
              "\n",
              "    .dataframe thead th {\n",
              "        text-align: right;\n",
              "    }\n",
              "</style>\n",
              "<table border=\"1\" class=\"dataframe\">\n",
              "  <thead>\n",
              "    <tr style=\"text-align: right;\">\n",
              "      <th></th>\n",
              "      <th>image_path</th>\n",
              "      <th>class</th>\n",
              "    </tr>\n",
              "  </thead>\n",
              "  <tbody>\n",
              "    <tr>\n",
              "      <th>0</th>\n",
              "      <td>/content/drive/MyDrive/Fruit Image Dataset/1_g...</td>\n",
              "      <td>guava</td>\n",
              "    </tr>\n",
              "    <tr>\n",
              "      <th>1</th>\n",
              "      <td>/content/drive/MyDrive/Fruit Image Dataset/2_b...</td>\n",
              "      <td>banana</td>\n",
              "    </tr>\n",
              "    <tr>\n",
              "      <th>2</th>\n",
              "      <td>/content/drive/MyDrive/Fruit Image Dataset/3_p...</td>\n",
              "      <td>peaches</td>\n",
              "    </tr>\n",
              "    <tr>\n",
              "      <th>3</th>\n",
              "      <td>/content/drive/MyDrive/Fruit Image Dataset/4_m...</td>\n",
              "      <td>mango</td>\n",
              "    </tr>\n",
              "    <tr>\n",
              "      <th>4</th>\n",
              "      <td>/content/drive/MyDrive/Fruit Image Dataset/5_r...</td>\n",
              "      <td>raspberries</td>\n",
              "    </tr>\n",
              "  </tbody>\n",
              "</table>\n",
              "</div>\n",
              "    <div class=\"colab-df-buttons\">\n",
              "\n",
              "  <div class=\"colab-df-container\">\n",
              "    <button class=\"colab-df-convert\" onclick=\"convertToInteractive('df-0471a2f9-19ec-4ace-b1dd-26eb8cf3bd12')\"\n",
              "            title=\"Convert this dataframe to an interactive table.\"\n",
              "            style=\"display:none;\">\n",
              "\n",
              "  <svg xmlns=\"http://www.w3.org/2000/svg\" height=\"24px\" viewBox=\"0 -960 960 960\">\n",
              "    <path d=\"M120-120v-720h720v720H120Zm60-500h600v-160H180v160Zm220 220h160v-160H400v160Zm0 220h160v-160H400v160ZM180-400h160v-160H180v160Zm440 0h160v-160H620v160ZM180-180h160v-160H180v160Zm440 0h160v-160H620v160Z\"/>\n",
              "  </svg>\n",
              "    </button>\n",
              "\n",
              "  <style>\n",
              "    .colab-df-container {\n",
              "      display:flex;\n",
              "      gap: 12px;\n",
              "    }\n",
              "\n",
              "    .colab-df-convert {\n",
              "      background-color: #E8F0FE;\n",
              "      border: none;\n",
              "      border-radius: 50%;\n",
              "      cursor: pointer;\n",
              "      display: none;\n",
              "      fill: #1967D2;\n",
              "      height: 32px;\n",
              "      padding: 0 0 0 0;\n",
              "      width: 32px;\n",
              "    }\n",
              "\n",
              "    .colab-df-convert:hover {\n",
              "      background-color: #E2EBFA;\n",
              "      box-shadow: 0px 1px 2px rgba(60, 64, 67, 0.3), 0px 1px 3px 1px rgba(60, 64, 67, 0.15);\n",
              "      fill: #174EA6;\n",
              "    }\n",
              "\n",
              "    .colab-df-buttons div {\n",
              "      margin-bottom: 4px;\n",
              "    }\n",
              "\n",
              "    [theme=dark] .colab-df-convert {\n",
              "      background-color: #3B4455;\n",
              "      fill: #D2E3FC;\n",
              "    }\n",
              "\n",
              "    [theme=dark] .colab-df-convert:hover {\n",
              "      background-color: #434B5C;\n",
              "      box-shadow: 0px 1px 3px 1px rgba(0, 0, 0, 0.15);\n",
              "      filter: drop-shadow(0px 1px 2px rgba(0, 0, 0, 0.3));\n",
              "      fill: #FFFFFF;\n",
              "    }\n",
              "  </style>\n",
              "\n",
              "    <script>\n",
              "      const buttonEl =\n",
              "        document.querySelector('#df-0471a2f9-19ec-4ace-b1dd-26eb8cf3bd12 button.colab-df-convert');\n",
              "      buttonEl.style.display =\n",
              "        google.colab.kernel.accessAllowed ? 'block' : 'none';\n",
              "\n",
              "      async function convertToInteractive(key) {\n",
              "        const element = document.querySelector('#df-0471a2f9-19ec-4ace-b1dd-26eb8cf3bd12');\n",
              "        const dataTable =\n",
              "          await google.colab.kernel.invokeFunction('convertToInteractive',\n",
              "                                                    [key], {});\n",
              "        if (!dataTable) return;\n",
              "\n",
              "        const docLinkHtml = 'Like what you see? Visit the ' +\n",
              "          '<a target=\"_blank\" href=https://colab.research.google.com/notebooks/data_table.ipynb>data table notebook</a>'\n",
              "          + ' to learn more about interactive tables.';\n",
              "        element.innerHTML = '';\n",
              "        dataTable['output_type'] = 'display_data';\n",
              "        await google.colab.output.renderOutput(dataTable, element);\n",
              "        const docLink = document.createElement('div');\n",
              "        docLink.innerHTML = docLinkHtml;\n",
              "        element.appendChild(docLink);\n",
              "      }\n",
              "    </script>\n",
              "  </div>\n",
              "\n",
              "\n",
              "<div id=\"df-38b6956e-09ad-480b-8af4-9a40cc2f6679\">\n",
              "  <button class=\"colab-df-quickchart\" onclick=\"quickchart('df-38b6956e-09ad-480b-8af4-9a40cc2f6679')\"\n",
              "            title=\"Suggest charts.\"\n",
              "            style=\"display:none;\">\n",
              "\n",
              "<svg xmlns=\"http://www.w3.org/2000/svg\" height=\"24px\"viewBox=\"0 0 24 24\"\n",
              "     width=\"24px\">\n",
              "    <g>\n",
              "        <path d=\"M19 3H5c-1.1 0-2 .9-2 2v14c0 1.1.9 2 2 2h14c1.1 0 2-.9 2-2V5c0-1.1-.9-2-2-2zM9 17H7v-7h2v7zm4 0h-2V7h2v10zm4 0h-2v-4h2v4z\"/>\n",
              "    </g>\n",
              "</svg>\n",
              "  </button>\n",
              "\n",
              "<style>\n",
              "  .colab-df-quickchart {\n",
              "      --bg-color: #E8F0FE;\n",
              "      --fill-color: #1967D2;\n",
              "      --hover-bg-color: #E2EBFA;\n",
              "      --hover-fill-color: #174EA6;\n",
              "      --disabled-fill-color: #AAA;\n",
              "      --disabled-bg-color: #DDD;\n",
              "  }\n",
              "\n",
              "  [theme=dark] .colab-df-quickchart {\n",
              "      --bg-color: #3B4455;\n",
              "      --fill-color: #D2E3FC;\n",
              "      --hover-bg-color: #434B5C;\n",
              "      --hover-fill-color: #FFFFFF;\n",
              "      --disabled-bg-color: #3B4455;\n",
              "      --disabled-fill-color: #666;\n",
              "  }\n",
              "\n",
              "  .colab-df-quickchart {\n",
              "    background-color: var(--bg-color);\n",
              "    border: none;\n",
              "    border-radius: 50%;\n",
              "    cursor: pointer;\n",
              "    display: none;\n",
              "    fill: var(--fill-color);\n",
              "    height: 32px;\n",
              "    padding: 0;\n",
              "    width: 32px;\n",
              "  }\n",
              "\n",
              "  .colab-df-quickchart:hover {\n",
              "    background-color: var(--hover-bg-color);\n",
              "    box-shadow: 0 1px 2px rgba(60, 64, 67, 0.3), 0 1px 3px 1px rgba(60, 64, 67, 0.15);\n",
              "    fill: var(--button-hover-fill-color);\n",
              "  }\n",
              "\n",
              "  .colab-df-quickchart-complete:disabled,\n",
              "  .colab-df-quickchart-complete:disabled:hover {\n",
              "    background-color: var(--disabled-bg-color);\n",
              "    fill: var(--disabled-fill-color);\n",
              "    box-shadow: none;\n",
              "  }\n",
              "\n",
              "  .colab-df-spinner {\n",
              "    border: 2px solid var(--fill-color);\n",
              "    border-color: transparent;\n",
              "    border-bottom-color: var(--fill-color);\n",
              "    animation:\n",
              "      spin 1s steps(1) infinite;\n",
              "  }\n",
              "\n",
              "  @keyframes spin {\n",
              "    0% {\n",
              "      border-color: transparent;\n",
              "      border-bottom-color: var(--fill-color);\n",
              "      border-left-color: var(--fill-color);\n",
              "    }\n",
              "    20% {\n",
              "      border-color: transparent;\n",
              "      border-left-color: var(--fill-color);\n",
              "      border-top-color: var(--fill-color);\n",
              "    }\n",
              "    30% {\n",
              "      border-color: transparent;\n",
              "      border-left-color: var(--fill-color);\n",
              "      border-top-color: var(--fill-color);\n",
              "      border-right-color: var(--fill-color);\n",
              "    }\n",
              "    40% {\n",
              "      border-color: transparent;\n",
              "      border-right-color: var(--fill-color);\n",
              "      border-top-color: var(--fill-color);\n",
              "    }\n",
              "    60% {\n",
              "      border-color: transparent;\n",
              "      border-right-color: var(--fill-color);\n",
              "    }\n",
              "    80% {\n",
              "      border-color: transparent;\n",
              "      border-right-color: var(--fill-color);\n",
              "      border-bottom-color: var(--fill-color);\n",
              "    }\n",
              "    90% {\n",
              "      border-color: transparent;\n",
              "      border-bottom-color: var(--fill-color);\n",
              "    }\n",
              "  }\n",
              "</style>\n",
              "\n",
              "  <script>\n",
              "    async function quickchart(key) {\n",
              "      const quickchartButtonEl =\n",
              "        document.querySelector('#' + key + ' button');\n",
              "      quickchartButtonEl.disabled = true;  // To prevent multiple clicks.\n",
              "      quickchartButtonEl.classList.add('colab-df-spinner');\n",
              "      try {\n",
              "        const charts = await google.colab.kernel.invokeFunction(\n",
              "            'suggestCharts', [key], {});\n",
              "      } catch (error) {\n",
              "        console.error('Error during call to suggestCharts:', error);\n",
              "      }\n",
              "      quickchartButtonEl.classList.remove('colab-df-spinner');\n",
              "      quickchartButtonEl.classList.add('colab-df-quickchart-complete');\n",
              "    }\n",
              "    (() => {\n",
              "      let quickchartButtonEl =\n",
              "        document.querySelector('#df-38b6956e-09ad-480b-8af4-9a40cc2f6679 button');\n",
              "      quickchartButtonEl.style.display =\n",
              "        google.colab.kernel.accessAllowed ? 'block' : 'none';\n",
              "    })();\n",
              "  </script>\n",
              "</div>\n",
              "    </div>\n",
              "  </div>\n"
            ]
          },
          "metadata": {},
          "execution_count": 4
        }
      ],
      "source": [
        "dataset = pd.read_csv(\"/content/drive/MyDrive/Fruit Image Dataset/dataset_2.csv\")\n",
        "dataset.head()"
      ]
    },
    {
      "cell_type": "code",
      "execution_count": null,
      "metadata": {
        "id": "GZkYyZV2Vud4"
      },
      "outputs": [],
      "source": [
        "label_encoder = OneHotEncoder(sparse_output=False)\n",
        "labels_onehot = label_encoder.fit_transform(dataset[['class']])\n",
        "num_classes = labels_onehot.shape[1]"
      ]
    },
    {
      "cell_type": "code",
      "execution_count": null,
      "metadata": {
        "id": "OdzozCs5WAVB"
      },
      "outputs": [],
      "source": [
        "def load_and_preprocess_image(image_path):\n",
        "  image = cv2.imread(image_path)\n",
        "  image = cv2.resize(image,(100,100))\n",
        "  image = image.astype(\"float32\")/255.0\n",
        "  return image\n",
        "num_processes  = 5\n",
        "with concurrent.futures.ProcessPoolExecutor(max_workers=num_processes) as executor:\n",
        "    images = list(executor.map(load_and_preprocess_image, dataset['image_path']))\n",
        "images = np.array(images)"
      ]
    },
    {
      "cell_type": "code",
      "source": [
        "x_train,x_test,y_train,y_test = train_test_split(images, labels_onehot, test_size = 0.3, random_state = 0)"
      ],
      "metadata": {
        "id": "oOXnvxyPxq2o"
      },
      "execution_count": null,
      "outputs": []
    },
    {
      "cell_type": "code",
      "source": [
        "datagen = ImageDataGenerator(\n",
        "    rotation_range = 20,\n",
        "    width_shift_range = 0.2,\n",
        "    height_shift_range = 0.2,\n",
        "    horizontal_flip=True,\n",
        "    validation_split = 0.3\n",
        ")\n",
        "datagen.fit(x_train)"
      ],
      "metadata": {
        "id": "geMbsBFoywnw"
      },
      "execution_count": null,
      "outputs": []
    },
    {
      "cell_type": "code",
      "execution_count": null,
      "metadata": {
        "id": "KoJRpXFNekdu",
        "colab": {
          "base_uri": "https://localhost:8080/"
        },
        "outputId": "8986673d-f5c2-4724-afff-49bf7903e7b9"
      },
      "outputs": [
        {
          "output_type": "stream",
          "name": "stdout",
          "text": [
            "Model: \"sequential\"\n",
            "_________________________________________________________________\n",
            " Layer (type)                Output Shape              Param #   \n",
            "=================================================================\n",
            " conv2d (Conv2D)             (None, 98, 98, 32)        896       \n",
            "                                                                 \n",
            " max_pooling2d (MaxPooling2  (None, 49, 49, 32)        0         \n",
            " D)                                                              \n",
            "                                                                 \n",
            " conv2d_1 (Conv2D)           (None, 47, 47, 64)        18496     \n",
            "                                                                 \n",
            " max_pooling2d_1 (MaxPoolin  (None, 23, 23, 64)        0         \n",
            " g2D)                                                            \n",
            "                                                                 \n",
            " conv2d_2 (Conv2D)           (None, 21, 21, 128)       73856     \n",
            "                                                                 \n",
            " max_pooling2d_2 (MaxPoolin  (None, 10, 10, 128)       0         \n",
            " g2D)                                                            \n",
            "                                                                 \n",
            " conv2d_3 (Conv2D)           (None, 8, 8, 256)         295168    \n",
            "                                                                 \n",
            " max_pooling2d_3 (MaxPoolin  (None, 4, 4, 256)         0         \n",
            " g2D)                                                            \n",
            "                                                                 \n",
            " flatten (Flatten)           (None, 4096)              0         \n",
            "                                                                 \n",
            " dense (Dense)               (None, 64)                262208    \n",
            "                                                                 \n",
            " dropout (Dropout)           (None, 64)                0         \n",
            "                                                                 \n",
            " dense_1 (Dense)             (None, 128)               8320      \n",
            "                                                                 \n",
            " dropout_1 (Dropout)         (None, 128)               0         \n",
            "                                                                 \n",
            " dense_2 (Dense)             (None, 256)               33024     \n",
            "                                                                 \n",
            " dropout_2 (Dropout)         (None, 256)               0         \n",
            "                                                                 \n",
            " dense_3 (Dense)             (None, 10)                2570      \n",
            "                                                                 \n",
            "=================================================================\n",
            "Total params: 694538 (2.65 MB)\n",
            "Trainable params: 694538 (2.65 MB)\n",
            "Non-trainable params: 0 (0.00 Byte)\n",
            "_________________________________________________________________\n"
          ]
        }
      ],
      "source": [
        "from keras.layers import Conv2D, MaxPooling2D\n",
        "from keras.layers import Activation, Dropout, Flatten, Dense, BatchNormalization\n",
        "input_shape = [100,100,3]\n",
        "model = Sequential()\n",
        "model.add(Conv2D(32,(3,3),activation = 'relu',input_shape = input_shape))\n",
        "model.add(MaxPooling2D(pool_size = (2,2)))\n",
        "model.add(Conv2D(64,(3,3),activation = 'relu',input_shape = input_shape))\n",
        "model.add(MaxPooling2D(pool_size = (2,2)))\n",
        "model.add(Conv2D(128,(3,3),activation = 'relu',input_shape = input_shape))\n",
        "model.add(MaxPooling2D(pool_size = (2,2)))\n",
        "model.add(Conv2D(256,(3,3),activation = 'relu',input_shape = input_shape))\n",
        "model.add(MaxPooling2D(pool_size = (2,2)))\n",
        "model.add(Flatten())\n",
        "model.add(Dense(64,activation = 'relu'))\n",
        "model.add(Dropout(0.2))\n",
        "model.add(Dense(128,activation = 'relu'))\n",
        "model.add(Dropout(0.2))\n",
        "model.add(Dense(256,activation = 'relu'))\n",
        "model.add(Dropout(0.2))\n",
        "model.add(Dense(num_classes,activation = 'sigmoid'))\n",
        "model.summary()"
      ]
    },
    {
      "cell_type": "code",
      "source": [
        "model.compile(optimizer='adam',\n",
        "              loss='categorical_crossentropy',\n",
        "              metrics=['accuracy'])"
      ],
      "metadata": {
        "id": "8xXE8cieWBTh"
      },
      "execution_count": null,
      "outputs": []
    },
    {
      "cell_type": "code",
      "source": [
        "history = model.fit(datagen.flow(x_train,y_train, batch_size = 100),\n",
        "    validation_data = (x_test,y_test),\n",
        "    epochs = 30,\n",
        "    steps_per_epoch = len(x_train)//100\n",
        ")"
      ],
      "metadata": {
        "colab": {
          "base_uri": "https://localhost:8080/"
        },
        "id": "uwA7RN5TWRz0",
        "outputId": "94a07916-ba67-4f68-93e3-0e9f806a64af"
      },
      "execution_count": null,
      "outputs": [
        {
          "output_type": "stream",
          "name": "stdout",
          "text": [
            "Epoch 1/30\n",
            "70/70 [==============================] - 32s 279ms/step - loss: 2.1357 - accuracy: 0.1750 - val_loss: 1.7310 - val_accuracy: 0.3567\n",
            "Epoch 2/30\n",
            "70/70 [==============================] - 23s 328ms/step - loss: 1.6971 - accuracy: 0.3434 - val_loss: 1.6123 - val_accuracy: 0.3733\n",
            "Epoch 3/30\n",
            "70/70 [==============================] - 19s 266ms/step - loss: 1.5119 - accuracy: 0.4321 - val_loss: 1.3179 - val_accuracy: 0.5323\n",
            "Epoch 4/30\n",
            "70/70 [==============================] - 20s 284ms/step - loss: 1.3885 - accuracy: 0.4829 - val_loss: 1.3704 - val_accuracy: 0.4597\n",
            "Epoch 5/30\n",
            "70/70 [==============================] - 19s 272ms/step - loss: 1.2773 - accuracy: 0.5194 - val_loss: 1.2972 - val_accuracy: 0.5337\n",
            "Epoch 6/30\n",
            "70/70 [==============================] - 19s 273ms/step - loss: 1.2441 - accuracy: 0.5479 - val_loss: 1.3748 - val_accuracy: 0.5263\n",
            "Epoch 7/30\n",
            "70/70 [==============================] - 20s 293ms/step - loss: 1.1089 - accuracy: 0.5996 - val_loss: 1.1228 - val_accuracy: 0.6057\n",
            "Epoch 8/30\n",
            "70/70 [==============================] - 19s 268ms/step - loss: 1.0474 - accuracy: 0.6319 - val_loss: 0.8395 - val_accuracy: 0.6953\n",
            "Epoch 9/30\n",
            "70/70 [==============================] - 21s 295ms/step - loss: 0.9789 - accuracy: 0.6610 - val_loss: 1.1092 - val_accuracy: 0.6200\n",
            "Epoch 10/30\n",
            "70/70 [==============================] - 20s 293ms/step - loss: 0.9211 - accuracy: 0.6816 - val_loss: 0.9383 - val_accuracy: 0.6833\n",
            "Epoch 11/30\n",
            "70/70 [==============================] - 19s 265ms/step - loss: 0.8467 - accuracy: 0.7051 - val_loss: 0.7971 - val_accuracy: 0.7203\n",
            "Epoch 12/30\n",
            "70/70 [==============================] - 20s 292ms/step - loss: 0.7968 - accuracy: 0.7174 - val_loss: 0.8434 - val_accuracy: 0.7077\n",
            "Epoch 13/30\n",
            "70/70 [==============================] - 19s 267ms/step - loss: 0.7493 - accuracy: 0.7450 - val_loss: 1.0306 - val_accuracy: 0.6783\n",
            "Epoch 14/30\n",
            "70/70 [==============================] - 19s 266ms/step - loss: 0.7322 - accuracy: 0.7486 - val_loss: 0.8485 - val_accuracy: 0.7283\n",
            "Epoch 15/30\n",
            "70/70 [==============================] - 20s 292ms/step - loss: 0.7330 - accuracy: 0.7509 - val_loss: 1.2754 - val_accuracy: 0.6353\n",
            "Epoch 16/30\n",
            "70/70 [==============================] - 21s 297ms/step - loss: 0.6823 - accuracy: 0.7671 - val_loss: 0.5621 - val_accuracy: 0.8067\n",
            "Epoch 17/30\n",
            "70/70 [==============================] - 20s 292ms/step - loss: 0.6670 - accuracy: 0.7719 - val_loss: 0.6200 - val_accuracy: 0.7947\n",
            "Epoch 18/30\n",
            "70/70 [==============================] - 19s 267ms/step - loss: 0.6310 - accuracy: 0.7801 - val_loss: 0.6773 - val_accuracy: 0.7923\n",
            "Epoch 19/30\n",
            "70/70 [==============================] - 20s 285ms/step - loss: 0.6046 - accuracy: 0.7970 - val_loss: 0.5521 - val_accuracy: 0.8210\n",
            "Epoch 20/30\n",
            "70/70 [==============================] - 19s 266ms/step - loss: 0.6171 - accuracy: 0.7960 - val_loss: 0.6373 - val_accuracy: 0.7767\n",
            "Epoch 21/30\n",
            "70/70 [==============================] - 19s 267ms/step - loss: 0.5628 - accuracy: 0.8103 - val_loss: 0.6013 - val_accuracy: 0.8093\n",
            "Epoch 22/30\n",
            "70/70 [==============================] - 21s 294ms/step - loss: 0.5705 - accuracy: 0.8077 - val_loss: 1.0672 - val_accuracy: 0.7023\n",
            "Epoch 23/30\n",
            "70/70 [==============================] - 20s 292ms/step - loss: 0.5492 - accuracy: 0.8114 - val_loss: 0.5543 - val_accuracy: 0.8183\n",
            "Epoch 24/30\n",
            "70/70 [==============================] - 20s 292ms/step - loss: 0.5094 - accuracy: 0.8329 - val_loss: 0.8078 - val_accuracy: 0.7557\n",
            "Epoch 25/30\n",
            "70/70 [==============================] - 23s 335ms/step - loss: 0.5380 - accuracy: 0.8146 - val_loss: 0.5686 - val_accuracy: 0.8217\n",
            "Epoch 26/30\n",
            "70/70 [==============================] - 22s 316ms/step - loss: 0.5170 - accuracy: 0.8313 - val_loss: 0.4921 - val_accuracy: 0.8450\n",
            "Epoch 27/30\n",
            "70/70 [==============================] - 21s 294ms/step - loss: 0.4621 - accuracy: 0.8467 - val_loss: 0.5962 - val_accuracy: 0.8157\n",
            "Epoch 28/30\n",
            "70/70 [==============================] - 19s 266ms/step - loss: 0.4395 - accuracy: 0.8546 - val_loss: 0.4106 - val_accuracy: 0.8800\n",
            "Epoch 29/30\n",
            "70/70 [==============================] - 21s 304ms/step - loss: 0.4594 - accuracy: 0.8477 - val_loss: 0.7955 - val_accuracy: 0.7700\n",
            "Epoch 30/30\n",
            "70/70 [==============================] - 20s 282ms/step - loss: 0.4323 - accuracy: 0.8560 - val_loss: 0.3849 - val_accuracy: 0.8733\n"
          ]
        }
      ]
    },
    {
      "cell_type": "code",
      "source": [
        "test_loss,test_accuracy = model.evaluate(x_test,y_test,verbose = 2)"
      ],
      "metadata": {
        "id": "8wwpmm7lWvyC",
        "colab": {
          "base_uri": "https://localhost:8080/"
        },
        "outputId": "af2bd492-05d5-49c8-a52b-7c8238cd225b"
      },
      "execution_count": null,
      "outputs": [
        {
          "output_type": "stream",
          "name": "stdout",
          "text": [
            "94/94 - 1s - loss: 0.3849 - accuracy: 0.8733 - 659ms/epoch - 7ms/step\n"
          ]
        }
      ]
    },
    {
      "cell_type": "code",
      "source": [
        "y_pred_train = model.predict(x_train)\n",
        "y_pred_train =  np.argmax(y_pred_train, axis=1)\n",
        "y_pred_test = model.predict(x_test)\n",
        "y_pred_test =  np.argmax(y_pred_test, axis=1)"
      ],
      "metadata": {
        "colab": {
          "base_uri": "https://localhost:8080/"
        },
        "id": "vFKdwZXagHlJ",
        "outputId": "3941686b-11bd-47c8-ec52-0fe8a6dcc71f"
      },
      "execution_count": null,
      "outputs": [
        {
          "output_type": "stream",
          "name": "stdout",
          "text": [
            "219/219 [==============================] - 1s 5ms/step\n",
            "94/94 [==============================] - 0s 5ms/step\n"
          ]
        }
      ]
    },
    {
      "cell_type": "code",
      "source": [
        "\n",
        "# Code to start the finetunning process\n",
        "from sklearn.metrics import accuracy_score\n",
        "from sklearn.metrics import precision_score\n",
        "from sklearn.metrics import recall_score\n",
        "from sklearn.metrics import f1_score\n",
        "from sklearn.metrics import confusion_matrix\n",
        "\n",
        "train_cm = confusion_matrix(np.argmax(y_train,axis =1),y_pred_train)\n",
        "train_acc = accuracy_score(np.argmax(y_train,axis = 1),y_pred_train)\n",
        "train_pre = precision_score(np.argmax(y_train,axis = 1),y_pred_train,average='weighted')\n",
        "train_rscore = recall_score(np.argmax(y_train,axis =1),y_pred_train,average='weighted')\n",
        "train_f1 = f1_score(np.argmax(y_train,axis =1),y_pred_train,average='weighted')\n",
        "\n",
        "test_cm = confusion_matrix(np.argmax(y_test,axis =1),y_pred_test)\n",
        "test_acc = accuracy_score(np.argmax(y_test,axis =1), y_pred_test)\n",
        "test_pre = precision_score(np.argmax(y_test,axis =1),y_pred_test,average='weighted')\n",
        "test_rscore = recall_score(np.argmax(y_test,axis =1),y_pred_test,average='weighted')\n",
        "test_f1 = f1_score(np.argmax(y_test,axis =1),y_pred_test, average='weighted')\n",
        "\n",
        "print(\"**********Training Dataset**************\")\n",
        "print(train_cm)\n",
        "print(\"Accuracy = \",train_acc)\n",
        "print(\"Precision Score = \",train_pre)\n",
        "print(\"Recall Score = \",train_rscore)\n",
        "print( \"F1 Score = \",train_f1)\n",
        "\n",
        "print(\"**********Testing Dataset**************\")\n",
        "print(test_cm)\n",
        "print(\"Accuracy = \",test_acc)\n",
        "print(\"Precision Score = \",test_pre)\n",
        "print(\"Recall Score = \",test_rscore)\n",
        "print(\"F1 Score = \",test_f1)"
      ],
      "metadata": {
        "colab": {
          "base_uri": "https://localhost:8080/"
        },
        "id": "IocHHJW3kde2",
        "outputId": "fbffb881-f72a-462b-af5e-4badc852d9f1"
      },
      "execution_count": null,
      "outputs": [
        {
          "output_type": "stream",
          "name": "stdout",
          "text": [
            "**********Training Dataset**************\n",
            "[[597  13   4  11   5  33  10  16   7   1]\n",
            " [  2 657  22   5   2   4  13   0   0   3]\n",
            " [  0   1 685   1   0   0   0   0  21   0]\n",
            " [  3  14   7 597   0   7  18   0   0  25]\n",
            " [  0  11   0   8 677   0   2   0  13   0]\n",
            " [ 37  15   0  15  19 542  66   6   1   7]\n",
            " [  4  19   2  26   2  14 625   0   0  23]\n",
            " [ 27   0   0   0  33  11   2 605   0   1]\n",
            " [  0   0   9   0  17   0   0   0 675   1]\n",
            " [  0   0   0   2   8   2   0   0   8 681]]\n",
            "Accuracy =  0.9058571428571428\n",
            "Precision Score =  0.9060099088427562\n",
            "Recall Score =  0.9058571428571428\n",
            "F1 Score =  0.9050457263744445\n",
            "**********Testing Dataset**************\n",
            "[[259   5   0   4   2  14   7   5   7   0]\n",
            " [  1 259   7   8   2   5   7   0   0   3]\n",
            " [  0   1 290   0   0   0   0   0   1   0]\n",
            " [  3   9   1 272   6   3  13   0   0  22]\n",
            " [  0   9   0   3 267   3   0   0   7   0]\n",
            " [ 23  10   2  15   5 190  25  10   6   6]\n",
            " [  2   7   2  14   1   8 242   1   0   8]\n",
            " [ 23   0   0   1  25   7   1 264   0   0]\n",
            " [  0   0   4   0  11   0   0   0 282   1]\n",
            " [  0   0   0   1   1   1   0   0   1 295]]\n",
            "Accuracy =  0.8733333333333333\n",
            "Precision Score =  0.8733552637587154\n",
            "Recall Score =  0.8733333333333333\n",
            "F1 Score =  0.8712687194846889\n"
          ]
        }
      ]
    }
  ],
  "metadata": {
    "accelerator": "GPU",
    "colab": {
      "provenance": [],
      "gpuType": "T4"
    },
    "kernelspec": {
      "display_name": "Python 3",
      "name": "python3"
    },
    "language_info": {
      "name": "python"
    }
  },
  "nbformat": 4,
  "nbformat_minor": 0
}
